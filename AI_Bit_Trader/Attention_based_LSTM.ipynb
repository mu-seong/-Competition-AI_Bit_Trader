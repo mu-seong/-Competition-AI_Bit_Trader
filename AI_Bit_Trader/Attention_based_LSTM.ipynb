{
 "cells": [
  {
   "cell_type": "code",
   "execution_count": 1,
   "metadata": {
    "scrolled": true
   },
   "outputs": [
    {
     "name": "stdout",
     "output_type": "stream",
     "text": [
      "[name: \"/device:CPU:0\"\n",
      "device_type: \"CPU\"\n",
      "memory_limit: 268435456\n",
      "locality {\n",
      "}\n",
      "incarnation: 17473889593984327756\n",
      ", name: \"/device:XLA_CPU:0\"\n",
      "device_type: \"XLA_CPU\"\n",
      "memory_limit: 17179869184\n",
      "locality {\n",
      "}\n",
      "incarnation: 7040857932066922136\n",
      "physical_device_desc: \"device: XLA_CPU device\"\n",
      ", name: \"/device:GPU:0\"\n",
      "device_type: \"GPU\"\n",
      "memory_limit: 29703400320\n",
      "locality {\n",
      "  bus_id: 1\n",
      "  links {\n",
      "    link {\n",
      "      device_id: 1\n",
      "      type: \"StreamExecutor\"\n",
      "      strength: 1\n",
      "    }\n",
      "  }\n",
      "}\n",
      "incarnation: 1457610740359763337\n",
      "physical_device_desc: \"device: 0, name: Tesla V100-SXM2-32GB, pci bus id: 0000:00:05.0, compute capability: 7.0\"\n",
      ", name: \"/device:GPU:1\"\n",
      "device_type: \"GPU\"\n",
      "memory_limit: 30988702848\n",
      "locality {\n",
      "  bus_id: 1\n",
      "  links {\n",
      "    link {\n",
      "      type: \"StreamExecutor\"\n",
      "      strength: 1\n",
      "    }\n",
      "  }\n",
      "}\n",
      "incarnation: 4669994859871947726\n",
      "physical_device_desc: \"device: 1, name: Tesla V100-SXM2-32GB, pci bus id: 0000:00:06.0, compute capability: 7.0\"\n",
      ", name: \"/device:XLA_GPU:0\"\n",
      "device_type: \"XLA_GPU\"\n",
      "memory_limit: 17179869184\n",
      "locality {\n",
      "}\n",
      "incarnation: 9857360370840101914\n",
      "physical_device_desc: \"device: XLA_GPU device\"\n",
      ", name: \"/device:XLA_GPU:1\"\n",
      "device_type: \"XLA_GPU\"\n",
      "memory_limit: 17179869184\n",
      "locality {\n",
      "}\n",
      "incarnation: 3960900789320612550\n",
      "physical_device_desc: \"device: XLA_GPU device\"\n",
      "]\n"
     ]
    }
   ],
   "source": [
    "from tensorflow.python.client import device_lib\n",
    "print(device_lib.list_local_devices())"
   ]
  },
  {
   "cell_type": "code",
   "execution_count": 2,
   "metadata": {},
   "outputs": [
    {
     "name": "stderr",
     "output_type": "stream",
     "text": [
      "Using TensorFlow backend.\n"
     ]
    }
   ],
   "source": [
    "#Library Imports\n",
    "import numpy as np\n",
    "import pandas as pd\n",
    "import math\n",
    "import os\n",
    "import matplotlib.pyplot as plt\n",
    "from tqdm import tqdm\n",
    "\n",
    "import tensorflow as tf\n",
    "from tensorflow import keras\n",
    "from tensorflow.keras.models import Model, load_model\n",
    "from tensorflow.keras.layers import Dense, LSTM, Reshape, Input, TimeDistributed\n",
    "from tensorflow.keras.callbacks import EarlyStopping, ModelCheckpoint\n",
    "\n",
    "from keras.engine.topology import Layer\n",
    "from tensorflow.keras import initializers as initializers, regularizers, constraints\n",
    "from tensorflow.keras import backend as K\n",
    "\n",
    "from attention import Attention"
   ]
  },
  {
   "cell_type": "code",
   "execution_count": 3,
   "metadata": {},
   "outputs": [],
   "source": [
    "version='v7'"
   ]
  },
  {
   "cell_type": "markdown",
   "metadata": {
    "id": "DbSjRtv9pc80"
   },
   "source": [
    "# 데이터 불러오기"
   ]
  },
  {
   "cell_type": "code",
   "execution_count": 4,
   "metadata": {},
   "outputs": [],
   "source": [
    "train_x_df = pd.read_csv(\"./data/train_x_df.csv\")\n",
    "train_y_df = pd.read_csv(\"./data/train_y_df.csv\")\n",
    "test_x_df = pd.read_csv(\"./data/test_x_df.csv\")"
   ]
  },
  {
   "cell_type": "code",
   "execution_count": 5,
   "metadata": {},
   "outputs": [
    {
     "data": {
      "text/html": [
       "<div>\n",
       "<style scoped>\n",
       "    .dataframe tbody tr th:only-of-type {\n",
       "        vertical-align: middle;\n",
       "    }\n",
       "\n",
       "    .dataframe tbody tr th {\n",
       "        vertical-align: top;\n",
       "    }\n",
       "\n",
       "    .dataframe thead th {\n",
       "        text-align: right;\n",
       "    }\n",
       "</style>\n",
       "<table border=\"1\" class=\"dataframe\">\n",
       "  <thead>\n",
       "    <tr style=\"text-align: right;\">\n",
       "      <th></th>\n",
       "      <th>sample_id</th>\n",
       "      <th>time</th>\n",
       "      <th>coin_index</th>\n",
       "      <th>open</th>\n",
       "      <th>high</th>\n",
       "      <th>low</th>\n",
       "      <th>close</th>\n",
       "      <th>volume</th>\n",
       "      <th>quote_av</th>\n",
       "      <th>trades</th>\n",
       "      <th>tb_base_av</th>\n",
       "      <th>tb_quote_av</th>\n",
       "    </tr>\n",
       "  </thead>\n",
       "  <tbody>\n",
       "    <tr>\n",
       "      <th>0</th>\n",
       "      <td>0</td>\n",
       "      <td>0</td>\n",
       "      <td>9</td>\n",
       "      <td>0.983614</td>\n",
       "      <td>0.983614</td>\n",
       "      <td>0.983128</td>\n",
       "      <td>0.983246</td>\n",
       "      <td>0.001334</td>\n",
       "      <td>10.650987</td>\n",
       "      <td>0.009855</td>\n",
       "      <td>0.000848</td>\n",
       "      <td>6.771755</td>\n",
       "    </tr>\n",
       "    <tr>\n",
       "      <th>1</th>\n",
       "      <td>0</td>\n",
       "      <td>1</td>\n",
       "      <td>9</td>\n",
       "      <td>0.983245</td>\n",
       "      <td>0.983612</td>\n",
       "      <td>0.982453</td>\n",
       "      <td>0.982693</td>\n",
       "      <td>0.001425</td>\n",
       "      <td>11.375689</td>\n",
       "      <td>0.016137</td>\n",
       "      <td>0.000697</td>\n",
       "      <td>5.565188</td>\n",
       "    </tr>\n",
       "    <tr>\n",
       "      <th>2</th>\n",
       "      <td>0</td>\n",
       "      <td>2</td>\n",
       "      <td>9</td>\n",
       "      <td>0.982694</td>\n",
       "      <td>0.983612</td>\n",
       "      <td>0.982403</td>\n",
       "      <td>0.983002</td>\n",
       "      <td>0.001542</td>\n",
       "      <td>12.301942</td>\n",
       "      <td>0.014166</td>\n",
       "      <td>0.000905</td>\n",
       "      <td>7.225459</td>\n",
       "    </tr>\n",
       "    <tr>\n",
       "      <th>3</th>\n",
       "      <td>0</td>\n",
       "      <td>3</td>\n",
       "      <td>9</td>\n",
       "      <td>0.983009</td>\n",
       "      <td>0.984848</td>\n",
       "      <td>0.983009</td>\n",
       "      <td>0.984486</td>\n",
       "      <td>0.002520</td>\n",
       "      <td>20.134695</td>\n",
       "      <td>0.021557</td>\n",
       "      <td>0.001171</td>\n",
       "      <td>9.353000</td>\n",
       "    </tr>\n",
       "    <tr>\n",
       "      <th>4</th>\n",
       "      <td>0</td>\n",
       "      <td>4</td>\n",
       "      <td>9</td>\n",
       "      <td>0.984233</td>\n",
       "      <td>0.984606</td>\n",
       "      <td>0.983612</td>\n",
       "      <td>0.984164</td>\n",
       "      <td>0.002818</td>\n",
       "      <td>22.515448</td>\n",
       "      <td>0.021434</td>\n",
       "      <td>0.001799</td>\n",
       "      <td>14.372534</td>\n",
       "    </tr>\n",
       "    <tr>\n",
       "      <th>...</th>\n",
       "      <td>...</td>\n",
       "      <td>...</td>\n",
       "      <td>...</td>\n",
       "      <td>...</td>\n",
       "      <td>...</td>\n",
       "      <td>...</td>\n",
       "      <td>...</td>\n",
       "      <td>...</td>\n",
       "      <td>...</td>\n",
       "      <td>...</td>\n",
       "      <td>...</td>\n",
       "      <td>...</td>\n",
       "    </tr>\n",
       "    <tr>\n",
       "      <th>10572175</th>\n",
       "      <td>7660</td>\n",
       "      <td>1375</td>\n",
       "      <td>8</td>\n",
       "      <td>1.000277</td>\n",
       "      <td>1.000499</td>\n",
       "      <td>1.000000</td>\n",
       "      <td>1.000388</td>\n",
       "      <td>0.574281</td>\n",
       "      <td>103.592369</td>\n",
       "      <td>0.665410</td>\n",
       "      <td>0.266649</td>\n",
       "      <td>48.100475</td>\n",
       "    </tr>\n",
       "    <tr>\n",
       "      <th>10572176</th>\n",
       "      <td>7660</td>\n",
       "      <td>1376</td>\n",
       "      <td>8</td>\n",
       "      <td>1.000333</td>\n",
       "      <td>1.000388</td>\n",
       "      <td>0.999834</td>\n",
       "      <td>1.000277</td>\n",
       "      <td>1.350429</td>\n",
       "      <td>243.535217</td>\n",
       "      <td>0.804037</td>\n",
       "      <td>0.487857</td>\n",
       "      <td>87.985291</td>\n",
       "    </tr>\n",
       "    <tr>\n",
       "      <th>10572177</th>\n",
       "      <td>7660</td>\n",
       "      <td>1377</td>\n",
       "      <td>8</td>\n",
       "      <td>1.000277</td>\n",
       "      <td>1.000388</td>\n",
       "      <td>0.999834</td>\n",
       "      <td>1.000277</td>\n",
       "      <td>0.692170</td>\n",
       "      <td>124.846756</td>\n",
       "      <td>0.781857</td>\n",
       "      <td>0.360461</td>\n",
       "      <td>65.018936</td>\n",
       "    </tr>\n",
       "    <tr>\n",
       "      <th>10572178</th>\n",
       "      <td>7660</td>\n",
       "      <td>1378</td>\n",
       "      <td>8</td>\n",
       "      <td>1.000166</td>\n",
       "      <td>1.000222</td>\n",
       "      <td>0.999778</td>\n",
       "      <td>1.000056</td>\n",
       "      <td>0.556481</td>\n",
       "      <td>100.351929</td>\n",
       "      <td>0.670955</td>\n",
       "      <td>0.296588</td>\n",
       "      <td>53.486565</td>\n",
       "    </tr>\n",
       "    <tr>\n",
       "      <th>10572179</th>\n",
       "      <td>7660</td>\n",
       "      <td>1379</td>\n",
       "      <td>8</td>\n",
       "      <td>1.000000</td>\n",
       "      <td>1.000555</td>\n",
       "      <td>0.999889</td>\n",
       "      <td>0.999945</td>\n",
       "      <td>1.385710</td>\n",
       "      <td>249.935760</td>\n",
       "      <td>1.264279</td>\n",
       "      <td>0.735243</td>\n",
       "      <td>132.617462</td>\n",
       "    </tr>\n",
       "  </tbody>\n",
       "</table>\n",
       "<p>10572180 rows × 12 columns</p>\n",
       "</div>"
      ],
      "text/plain": [
       "          sample_id  time  coin_index      open      high       low     close  \\\n",
       "0                 0     0           9  0.983614  0.983614  0.983128  0.983246   \n",
       "1                 0     1           9  0.983245  0.983612  0.982453  0.982693   \n",
       "2                 0     2           9  0.982694  0.983612  0.982403  0.983002   \n",
       "3                 0     3           9  0.983009  0.984848  0.983009  0.984486   \n",
       "4                 0     4           9  0.984233  0.984606  0.983612  0.984164   \n",
       "...             ...   ...         ...       ...       ...       ...       ...   \n",
       "10572175       7660  1375           8  1.000277  1.000499  1.000000  1.000388   \n",
       "10572176       7660  1376           8  1.000333  1.000388  0.999834  1.000277   \n",
       "10572177       7660  1377           8  1.000277  1.000388  0.999834  1.000277   \n",
       "10572178       7660  1378           8  1.000166  1.000222  0.999778  1.000056   \n",
       "10572179       7660  1379           8  1.000000  1.000555  0.999889  0.999945   \n",
       "\n",
       "            volume    quote_av    trades  tb_base_av  tb_quote_av  \n",
       "0         0.001334   10.650987  0.009855    0.000848     6.771755  \n",
       "1         0.001425   11.375689  0.016137    0.000697     5.565188  \n",
       "2         0.001542   12.301942  0.014166    0.000905     7.225459  \n",
       "3         0.002520   20.134695  0.021557    0.001171     9.353000  \n",
       "4         0.002818   22.515448  0.021434    0.001799    14.372534  \n",
       "...            ...         ...       ...         ...          ...  \n",
       "10572175  0.574281  103.592369  0.665410    0.266649    48.100475  \n",
       "10572176  1.350429  243.535217  0.804037    0.487857    87.985291  \n",
       "10572177  0.692170  124.846756  0.781857    0.360461    65.018936  \n",
       "10572178  0.556481  100.351929  0.670955    0.296588    53.486565  \n",
       "10572179  1.385710  249.935760  1.264279    0.735243   132.617462  \n",
       "\n",
       "[10572180 rows x 12 columns]"
      ]
     },
     "execution_count": 5,
     "metadata": {},
     "output_type": "execute_result"
    }
   ],
   "source": [
    "train_x_df"
   ]
  },
  {
   "cell_type": "code",
   "execution_count": 6,
   "metadata": {},
   "outputs": [
    {
     "data": {
      "text/html": [
       "<div>\n",
       "<style scoped>\n",
       "    .dataframe tbody tr th:only-of-type {\n",
       "        vertical-align: middle;\n",
       "    }\n",
       "\n",
       "    .dataframe tbody tr th {\n",
       "        vertical-align: top;\n",
       "    }\n",
       "\n",
       "    .dataframe thead th {\n",
       "        text-align: right;\n",
       "    }\n",
       "</style>\n",
       "<table border=\"1\" class=\"dataframe\">\n",
       "  <thead>\n",
       "    <tr style=\"text-align: right;\">\n",
       "      <th></th>\n",
       "      <th>sample_id</th>\n",
       "      <th>time</th>\n",
       "      <th>coin_index</th>\n",
       "      <th>open</th>\n",
       "      <th>high</th>\n",
       "      <th>low</th>\n",
       "      <th>close</th>\n",
       "      <th>volume</th>\n",
       "      <th>quote_av</th>\n",
       "      <th>trades</th>\n",
       "      <th>tb_base_av</th>\n",
       "      <th>tb_quote_av</th>\n",
       "    </tr>\n",
       "  </thead>\n",
       "  <tbody>\n",
       "    <tr>\n",
       "      <th>0</th>\n",
       "      <td>0</td>\n",
       "      <td>0</td>\n",
       "      <td>9</td>\n",
       "      <td>0.999389</td>\n",
       "      <td>0.999630</td>\n",
       "      <td>0.999261</td>\n",
       "      <td>0.999385</td>\n",
       "      <td>0.001187</td>\n",
       "      <td>9.632785</td>\n",
       "      <td>0.012565</td>\n",
       "      <td>0.000605</td>\n",
       "      <td>4.904978</td>\n",
       "    </tr>\n",
       "    <tr>\n",
       "      <th>1</th>\n",
       "      <td>0</td>\n",
       "      <td>1</td>\n",
       "      <td>9</td>\n",
       "      <td>0.999593</td>\n",
       "      <td>1.000000</td>\n",
       "      <td>0.999265</td>\n",
       "      <td>0.999266</td>\n",
       "      <td>0.004197</td>\n",
       "      <td>34.052364</td>\n",
       "      <td>0.020572</td>\n",
       "      <td>0.003014</td>\n",
       "      <td>24.453999</td>\n",
       "    </tr>\n",
       "    <tr>\n",
       "      <th>2</th>\n",
       "      <td>0</td>\n",
       "      <td>2</td>\n",
       "      <td>9</td>\n",
       "      <td>0.999266</td>\n",
       "      <td>0.999618</td>\n",
       "      <td>0.999262</td>\n",
       "      <td>0.999322</td>\n",
       "      <td>0.003942</td>\n",
       "      <td>31.981472</td>\n",
       "      <td>0.016630</td>\n",
       "      <td>0.002967</td>\n",
       "      <td>24.069899</td>\n",
       "    </tr>\n",
       "    <tr>\n",
       "      <th>3</th>\n",
       "      <td>0</td>\n",
       "      <td>3</td>\n",
       "      <td>9</td>\n",
       "      <td>0.999322</td>\n",
       "      <td>0.999388</td>\n",
       "      <td>0.998917</td>\n",
       "      <td>0.999387</td>\n",
       "      <td>0.003663</td>\n",
       "      <td>29.709074</td>\n",
       "      <td>0.019463</td>\n",
       "      <td>0.002362</td>\n",
       "      <td>19.158766</td>\n",
       "    </tr>\n",
       "    <tr>\n",
       "      <th>4</th>\n",
       "      <td>0</td>\n",
       "      <td>4</td>\n",
       "      <td>9</td>\n",
       "      <td>0.999015</td>\n",
       "      <td>0.999015</td>\n",
       "      <td>0.997631</td>\n",
       "      <td>0.998399</td>\n",
       "      <td>0.003266</td>\n",
       "      <td>26.466251</td>\n",
       "      <td>0.030180</td>\n",
       "      <td>0.001533</td>\n",
       "      <td>12.421005</td>\n",
       "    </tr>\n",
       "    <tr>\n",
       "      <th>...</th>\n",
       "      <td>...</td>\n",
       "      <td>...</td>\n",
       "      <td>...</td>\n",
       "      <td>...</td>\n",
       "      <td>...</td>\n",
       "      <td>...</td>\n",
       "      <td>...</td>\n",
       "      <td>...</td>\n",
       "      <td>...</td>\n",
       "      <td>...</td>\n",
       "      <td>...</td>\n",
       "      <td>...</td>\n",
       "    </tr>\n",
       "    <tr>\n",
       "      <th>919315</th>\n",
       "      <td>7660</td>\n",
       "      <td>115</td>\n",
       "      <td>8</td>\n",
       "      <td>1.002662</td>\n",
       "      <td>1.003382</td>\n",
       "      <td>1.002606</td>\n",
       "      <td>1.002717</td>\n",
       "      <td>0.957148</td>\n",
       "      <td>173.131668</td>\n",
       "      <td>0.510148</td>\n",
       "      <td>0.476201</td>\n",
       "      <td>86.143784</td>\n",
       "    </tr>\n",
       "    <tr>\n",
       "      <th>919316</th>\n",
       "      <td>7660</td>\n",
       "      <td>116</td>\n",
       "      <td>8</td>\n",
       "      <td>1.002551</td>\n",
       "      <td>1.002606</td>\n",
       "      <td>1.001608</td>\n",
       "      <td>1.001830</td>\n",
       "      <td>1.537946</td>\n",
       "      <td>277.939087</td>\n",
       "      <td>0.465787</td>\n",
       "      <td>1.061331</td>\n",
       "      <td>191.801056</td>\n",
       "    </tr>\n",
       "    <tr>\n",
       "      <th>919317</th>\n",
       "      <td>7660</td>\n",
       "      <td>117</td>\n",
       "      <td>8</td>\n",
       "      <td>1.001830</td>\n",
       "      <td>1.002384</td>\n",
       "      <td>1.001497</td>\n",
       "      <td>1.001608</td>\n",
       "      <td>1.203197</td>\n",
       "      <td>217.364487</td>\n",
       "      <td>0.637684</td>\n",
       "      <td>0.971337</td>\n",
       "      <td>175.472198</td>\n",
       "    </tr>\n",
       "    <tr>\n",
       "      <th>919318</th>\n",
       "      <td>7660</td>\n",
       "      <td>118</td>\n",
       "      <td>8</td>\n",
       "      <td>1.001608</td>\n",
       "      <td>1.001941</td>\n",
       "      <td>1.001109</td>\n",
       "      <td>1.001386</td>\n",
       "      <td>1.252859</td>\n",
       "      <td>226.264069</td>\n",
       "      <td>1.003660</td>\n",
       "      <td>0.449899</td>\n",
       "      <td>81.251137</td>\n",
       "    </tr>\n",
       "    <tr>\n",
       "      <th>919319</th>\n",
       "      <td>7660</td>\n",
       "      <td>119</td>\n",
       "      <td>8</td>\n",
       "      <td>1.001331</td>\n",
       "      <td>1.001719</td>\n",
       "      <td>1.001054</td>\n",
       "      <td>1.001497</td>\n",
       "      <td>1.297642</td>\n",
       "      <td>234.339737</td>\n",
       "      <td>0.748586</td>\n",
       "      <td>0.735177</td>\n",
       "      <td>132.758179</td>\n",
       "    </tr>\n",
       "  </tbody>\n",
       "</table>\n",
       "<p>919320 rows × 12 columns</p>\n",
       "</div>"
      ],
      "text/plain": [
       "        sample_id  time  coin_index      open      high       low     close  \\\n",
       "0               0     0           9  0.999389  0.999630  0.999261  0.999385   \n",
       "1               0     1           9  0.999593  1.000000  0.999265  0.999266   \n",
       "2               0     2           9  0.999266  0.999618  0.999262  0.999322   \n",
       "3               0     3           9  0.999322  0.999388  0.998917  0.999387   \n",
       "4               0     4           9  0.999015  0.999015  0.997631  0.998399   \n",
       "...           ...   ...         ...       ...       ...       ...       ...   \n",
       "919315       7660   115           8  1.002662  1.003382  1.002606  1.002717   \n",
       "919316       7660   116           8  1.002551  1.002606  1.001608  1.001830   \n",
       "919317       7660   117           8  1.001830  1.002384  1.001497  1.001608   \n",
       "919318       7660   118           8  1.001608  1.001941  1.001109  1.001386   \n",
       "919319       7660   119           8  1.001331  1.001719  1.001054  1.001497   \n",
       "\n",
       "          volume    quote_av    trades  tb_base_av  tb_quote_av  \n",
       "0       0.001187    9.632785  0.012565    0.000605     4.904978  \n",
       "1       0.004197   34.052364  0.020572    0.003014    24.453999  \n",
       "2       0.003942   31.981472  0.016630    0.002967    24.069899  \n",
       "3       0.003663   29.709074  0.019463    0.002362    19.158766  \n",
       "4       0.003266   26.466251  0.030180    0.001533    12.421005  \n",
       "...          ...         ...       ...         ...          ...  \n",
       "919315  0.957148  173.131668  0.510148    0.476201    86.143784  \n",
       "919316  1.537946  277.939087  0.465787    1.061331   191.801056  \n",
       "919317  1.203197  217.364487  0.637684    0.971337   175.472198  \n",
       "919318  1.252859  226.264069  1.003660    0.449899    81.251137  \n",
       "919319  1.297642  234.339737  0.748586    0.735177   132.758179  \n",
       "\n",
       "[919320 rows x 12 columns]"
      ]
     },
     "execution_count": 6,
     "metadata": {},
     "output_type": "execute_result"
    }
   ],
   "source": [
    "train_y_df"
   ]
  },
  {
   "cell_type": "code",
   "execution_count": 7,
   "metadata": {},
   "outputs": [
    {
     "data": {
      "text/html": [
       "<div>\n",
       "<style scoped>\n",
       "    .dataframe tbody tr th:only-of-type {\n",
       "        vertical-align: middle;\n",
       "    }\n",
       "\n",
       "    .dataframe tbody tr th {\n",
       "        vertical-align: top;\n",
       "    }\n",
       "\n",
       "    .dataframe thead th {\n",
       "        text-align: right;\n",
       "    }\n",
       "</style>\n",
       "<table border=\"1\" class=\"dataframe\">\n",
       "  <thead>\n",
       "    <tr style=\"text-align: right;\">\n",
       "      <th></th>\n",
       "      <th>sample_id</th>\n",
       "      <th>time</th>\n",
       "      <th>coin_index</th>\n",
       "      <th>open</th>\n",
       "      <th>high</th>\n",
       "      <th>low</th>\n",
       "      <th>close</th>\n",
       "      <th>volume</th>\n",
       "      <th>quote_av</th>\n",
       "      <th>trades</th>\n",
       "      <th>tb_base_av</th>\n",
       "      <th>tb_quote_av</th>\n",
       "    </tr>\n",
       "  </thead>\n",
       "  <tbody>\n",
       "    <tr>\n",
       "      <th>0</th>\n",
       "      <td>7661</td>\n",
       "      <td>0</td>\n",
       "      <td>7</td>\n",
       "      <td>0.993560</td>\n",
       "      <td>0.993560</td>\n",
       "      <td>0.990477</td>\n",
       "      <td>0.991021</td>\n",
       "      <td>587512.625000</td>\n",
       "      <td>534685.312500</td>\n",
       "      <td>553.533691</td>\n",
       "      <td>76317.687500</td>\n",
       "      <td>69457.835938</td>\n",
       "    </tr>\n",
       "    <tr>\n",
       "      <th>1</th>\n",
       "      <td>7661</td>\n",
       "      <td>1</td>\n",
       "      <td>7</td>\n",
       "      <td>0.990771</td>\n",
       "      <td>0.993048</td>\n",
       "      <td>0.990357</td>\n",
       "      <td>0.992689</td>\n",
       "      <td>616675.437500</td>\n",
       "      <td>560815.937500</td>\n",
       "      <td>514.306885</td>\n",
       "      <td>291661.375000</td>\n",
       "      <td>265331.843750</td>\n",
       "    </tr>\n",
       "    <tr>\n",
       "      <th>2</th>\n",
       "      <td>7661</td>\n",
       "      <td>2</td>\n",
       "      <td>7</td>\n",
       "      <td>0.992710</td>\n",
       "      <td>0.993560</td>\n",
       "      <td>0.991316</td>\n",
       "      <td>0.991795</td>\n",
       "      <td>670641.687500</td>\n",
       "      <td>610829.625000</td>\n",
       "      <td>361.758240</td>\n",
       "      <td>288066.125000</td>\n",
       "      <td>262389.562500</td>\n",
       "    </tr>\n",
       "    <tr>\n",
       "      <th>3</th>\n",
       "      <td>7661</td>\n",
       "      <td>3</td>\n",
       "      <td>7</td>\n",
       "      <td>0.992318</td>\n",
       "      <td>0.992318</td>\n",
       "      <td>0.990695</td>\n",
       "      <td>0.990727</td>\n",
       "      <td>365400.343750</td>\n",
       "      <td>332430.937500</td>\n",
       "      <td>329.069244</td>\n",
       "      <td>113585.000000</td>\n",
       "      <td>103350.929688</td>\n",
       "    </tr>\n",
       "    <tr>\n",
       "      <th>4</th>\n",
       "      <td>7661</td>\n",
       "      <td>4</td>\n",
       "      <td>7</td>\n",
       "      <td>0.991141</td>\n",
       "      <td>0.991152</td>\n",
       "      <td>0.989158</td>\n",
       "      <td>0.989605</td>\n",
       "      <td>245272.531250</td>\n",
       "      <td>222917.734375</td>\n",
       "      <td>481.617889</td>\n",
       "      <td>70405.781250</td>\n",
       "      <td>63988.847656</td>\n",
       "    </tr>\n",
       "    <tr>\n",
       "      <th>...</th>\n",
       "      <td>...</td>\n",
       "      <td>...</td>\n",
       "      <td>...</td>\n",
       "      <td>...</td>\n",
       "      <td>...</td>\n",
       "      <td>...</td>\n",
       "      <td>...</td>\n",
       "      <td>...</td>\n",
       "      <td>...</td>\n",
       "      <td>...</td>\n",
       "      <td>...</td>\n",
       "      <td>...</td>\n",
       "    </tr>\n",
       "    <tr>\n",
       "      <th>738295</th>\n",
       "      <td>8195</td>\n",
       "      <td>1375</td>\n",
       "      <td>6</td>\n",
       "      <td>0.997053</td>\n",
       "      <td>0.999276</td>\n",
       "      <td>0.997053</td>\n",
       "      <td>0.999069</td>\n",
       "      <td>1.633000</td>\n",
       "      <td>315.307526</td>\n",
       "      <td>1.375175</td>\n",
       "      <td>0.878884</td>\n",
       "      <td>169.736862</td>\n",
       "    </tr>\n",
       "    <tr>\n",
       "      <th>738296</th>\n",
       "      <td>8195</td>\n",
       "      <td>1376</td>\n",
       "      <td>6</td>\n",
       "      <td>0.999121</td>\n",
       "      <td>1.000569</td>\n",
       "      <td>0.998552</td>\n",
       "      <td>1.000569</td>\n",
       "      <td>1.478406</td>\n",
       "      <td>285.818695</td>\n",
       "      <td>1.039136</td>\n",
       "      <td>0.455307</td>\n",
       "      <td>88.052055</td>\n",
       "    </tr>\n",
       "    <tr>\n",
       "      <th>738297</th>\n",
       "      <td>8195</td>\n",
       "      <td>1377</td>\n",
       "      <td>6</td>\n",
       "      <td>1.000569</td>\n",
       "      <td>1.001086</td>\n",
       "      <td>0.999121</td>\n",
       "      <td>0.999690</td>\n",
       "      <td>0.848792</td>\n",
       "      <td>164.188950</td>\n",
       "      <td>0.935739</td>\n",
       "      <td>0.445028</td>\n",
       "      <td>86.055450</td>\n",
       "    </tr>\n",
       "    <tr>\n",
       "      <th>738298</th>\n",
       "      <td>8195</td>\n",
       "      <td>1378</td>\n",
       "      <td>6</td>\n",
       "      <td>0.999690</td>\n",
       "      <td>1.000207</td>\n",
       "      <td>0.998863</td>\n",
       "      <td>1.000000</td>\n",
       "      <td>1.099217</td>\n",
       "      <td>212.537872</td>\n",
       "      <td>0.723776</td>\n",
       "      <td>0.410302</td>\n",
       "      <td>79.334801</td>\n",
       "    </tr>\n",
       "    <tr>\n",
       "      <th>738299</th>\n",
       "      <td>8195</td>\n",
       "      <td>1379</td>\n",
       "      <td>6</td>\n",
       "      <td>1.000000</td>\n",
       "      <td>1.001137</td>\n",
       "      <td>0.999328</td>\n",
       "      <td>0.999380</td>\n",
       "      <td>2.253381</td>\n",
       "      <td>436.007904</td>\n",
       "      <td>1.209740</td>\n",
       "      <td>1.453545</td>\n",
       "      <td>281.218933</td>\n",
       "    </tr>\n",
       "  </tbody>\n",
       "</table>\n",
       "<p>738300 rows × 12 columns</p>\n",
       "</div>"
      ],
      "text/plain": [
       "        sample_id  time  coin_index      open      high       low     close  \\\n",
       "0            7661     0           7  0.993560  0.993560  0.990477  0.991021   \n",
       "1            7661     1           7  0.990771  0.993048  0.990357  0.992689   \n",
       "2            7661     2           7  0.992710  0.993560  0.991316  0.991795   \n",
       "3            7661     3           7  0.992318  0.992318  0.990695  0.990727   \n",
       "4            7661     4           7  0.991141  0.991152  0.989158  0.989605   \n",
       "...           ...   ...         ...       ...       ...       ...       ...   \n",
       "738295       8195  1375           6  0.997053  0.999276  0.997053  0.999069   \n",
       "738296       8195  1376           6  0.999121  1.000569  0.998552  1.000569   \n",
       "738297       8195  1377           6  1.000569  1.001086  0.999121  0.999690   \n",
       "738298       8195  1378           6  0.999690  1.000207  0.998863  1.000000   \n",
       "738299       8195  1379           6  1.000000  1.001137  0.999328  0.999380   \n",
       "\n",
       "               volume       quote_av      trades     tb_base_av    tb_quote_av  \n",
       "0       587512.625000  534685.312500  553.533691   76317.687500   69457.835938  \n",
       "1       616675.437500  560815.937500  514.306885  291661.375000  265331.843750  \n",
       "2       670641.687500  610829.625000  361.758240  288066.125000  262389.562500  \n",
       "3       365400.343750  332430.937500  329.069244  113585.000000  103350.929688  \n",
       "4       245272.531250  222917.734375  481.617889   70405.781250   63988.847656  \n",
       "...               ...            ...         ...            ...            ...  \n",
       "738295       1.633000     315.307526    1.375175       0.878884     169.736862  \n",
       "738296       1.478406     285.818695    1.039136       0.455307      88.052055  \n",
       "738297       0.848792     164.188950    0.935739       0.445028      86.055450  \n",
       "738298       1.099217     212.537872    0.723776       0.410302      79.334801  \n",
       "738299       2.253381     436.007904    1.209740       1.453545     281.218933  \n",
       "\n",
       "[738300 rows x 12 columns]"
      ]
     },
     "execution_count": 7,
     "metadata": {},
     "output_type": "execute_result"
    }
   ],
   "source": [
    "test_x_df"
   ]
  },
  {
   "cell_type": "markdown",
   "metadata": {},
   "source": [
    "# train_x + train_y"
   ]
  },
  {
   "cell_type": "markdown",
   "metadata": {},
   "source": [
    "trans_train_y_df = train_y_df.copy()\n",
    "trans_train_y_df"
   ]
  },
  {
   "cell_type": "markdown",
   "metadata": {},
   "source": [
    "for before, after in tqdm(zip(range(0, 120), range(1380, 1501))):\n",
    "    trans_train_y_df['time'] = trans_train_y_df['time'].replace([before], after)"
   ]
  },
  {
   "cell_type": "markdown",
   "metadata": {},
   "source": [
    "trans_train_y_df['time'].value_counts()"
   ]
  },
  {
   "cell_type": "markdown",
   "metadata": {},
   "source": [
    "trans_train_y_df.describe()"
   ]
  },
  {
   "cell_type": "markdown",
   "metadata": {},
   "source": [
    "train = pd.concat([train_x_df, trans_train_y_df])\n",
    "train"
   ]
  },
  {
   "cell_type": "markdown",
   "metadata": {},
   "source": [
    "train_concat = train.sort_values(by=['sample_id', 'time'], axis=0)\n",
    "train_concat.reset_index(drop=True, inplace=True)"
   ]
  },
  {
   "cell_type": "markdown",
   "metadata": {},
   "source": [
    "train_concat"
   ]
  },
  {
   "cell_type": "code",
   "execution_count": 8,
   "metadata": {},
   "outputs": [],
   "source": [
    "train_x = tf.reshape(train_x_df.iloc[:,3:7].values, [-1, 1380, 4])\n",
    "train_y = tf.reshape(train_y_df.iloc[:,3:7].values, [-1, 120, 4])\n",
    "test_x = tf.reshape(test_x_df.iloc[:,3:7].values, [-1, 1380, 4])"
   ]
  },
  {
   "cell_type": "code",
   "execution_count": 9,
   "metadata": {},
   "outputs": [
    {
     "name": "stdout",
     "output_type": "stream",
     "text": [
      "(7661, 1380, 4)\n",
      "(7661, 120, 4)\n",
      "(535, 1380, 4)\n"
     ]
    }
   ],
   "source": [
    "print(train_x.shape)\n",
    "print(train_y.shape)\n",
    "print(test_x.shape)"
   ]
  },
  {
   "cell_type": "code",
   "execution_count": 10,
   "metadata": {},
   "outputs": [
    {
     "data": {
      "image/png": "[encoded data removed]",
      "text/plain": [
       "<Figure size 1080x360 with 1 Axes>"
      ]
     },
     "metadata": {
      "needs_background": "light"
     },
     "output_type": "display_data"
    }
   ],
   "source": [
    "row=476\n",
    "\n",
    "plt.figure(figsize=(15,5))\n",
    "\n",
    "plt.plot(train_x[row,:,0], label='train_x open')\n",
    "plt.plot(np.arange(train_x.shape[1],train_x.shape[1]+ train_y.shape[1]), train_y[row, :, 0], label='train_y open')\n",
    "plt.legend()\n",
    "plt.title('open graph')\n",
    "plt.show()"
   ]
  },
  {
   "cell_type": "code",
   "execution_count": 11,
   "metadata": {},
   "outputs": [
    {
     "name": "stderr",
     "output_type": "stream",
     "text": [
      "  0%|▍                                                                              | 38/7661 [00:00<00:21, 360.36it/s]"
     ]
    },
    {
     "name": "stdout",
     "output_type": "stream",
     "text": [
      "(7661, 6, 170, 4) (7661, 6, 60, 4)\n"
     ]
    },
    {
     "name": "stderr",
     "output_type": "stream",
     "text": [
      "100%|█████████████████████████████████████████████████████████████████████████████| 7661/7661 [00:20<00:00, 378.03it/s]\n"
     ]
    }
   ],
   "source": [
    "input_window = 170\n",
    "output_window = 60\n",
    "num_features = 4\n",
    "window = input_window + output_window\n",
    "\n",
    "train_window_x= np.zeros((train_x.shape[0], train_x.shape[1]//230, input_window, num_features))\n",
    "train_window_y= np.zeros((train_x.shape[0], train_x.shape[1]//230, output_window, num_features))\n",
    "print(train_window_x.shape, train_window_y.shape)\n",
    "\n",
    "for example in tqdm(range(train_x.shape[0])):\n",
    "    for start in range(0,  train_x.shape[1]-(input_window+output_window), 230):\n",
    "        end = start+input_window\n",
    "        train_window_x[example, start//230, :, :] = train_x[example, start:end, :]\n",
    "        train_window_y[example, start//230, :, :] = train_x[example, end:end+output_window, :]"
   ]
  },
  {
   "cell_type": "code",
   "execution_count": 12,
   "metadata": {},
   "outputs": [],
   "source": [
    "new_train_x = tf.reshape(train_window_x, [-1, input_window, num_features])\n",
    "new_train_y = tf.reshape(train_window_y, [-1, output_window, num_features])"
   ]
  },
  {
   "cell_type": "code",
   "execution_count": 13,
   "metadata": {},
   "outputs": [
    {
     "name": "stdout",
     "output_type": "stream",
     "text": [
      "(45966, 170, 4)\n",
      "(45966, 60, 4)\n"
     ]
    }
   ],
   "source": [
    "print(new_train_x.shape)\n",
    "print(new_train_y.shape)"
   ]
  },
  {
   "cell_type": "markdown",
   "metadata": {},
   "source": [
    "# 학습하기"
   ]
  },
  {
   "cell_type": "code",
   "execution_count": 14,
   "metadata": {
    "scrolled": true
   },
   "outputs": [
    {
     "name": "stdout",
     "output_type": "stream",
     "text": [
      "Model: \"model\"\n",
      "__________________________________________________________________________________________________\n",
      "Layer (type)                    Output Shape         Param #     Connected to                     \n",
      "==================================================================================================\n",
      "input_1 (InputLayer)            [(None, 170, 4)]     0                                            \n",
      "__________________________________________________________________________________________________\n",
      "lstm (LSTM)                     (None, 170, 64)      17664       input_1[0][0]                    \n",
      "__________________________________________________________________________________________________\n",
      "lstm_1 (LSTM)                   (None, 170, 64)      33024       lstm[0][0]                       \n",
      "__________________________________________________________________________________________________\n",
      "last_hidden_state (Lambda)      (None, 64)           0           lstm_1[0][0]                     \n",
      "__________________________________________________________________________________________________\n",
      "attention_score_vec (Dense)     (None, 170, 64)      4096        lstm_1[0][0]                     \n",
      "__________________________________________________________________________________________________\n",
      "attention_score (Dot)           (None, 170)          0           last_hidden_state[0][0]          \n",
      "                                                                 attention_score_vec[0][0]        \n",
      "__________________________________________________________________________________________________\n",
      "attention_weight (Activation)   (None, 170)          0           attention_score[0][0]            \n",
      "__________________________________________________________________________________________________\n",
      "context_vector (Dot)            (None, 64)           0           lstm_1[0][0]                     \n",
      "                                                                 attention_weight[0][0]           \n",
      "__________________________________________________________________________________________________\n",
      "attention_output (Concatenate)  (None, 128)          0           context_vector[0][0]             \n",
      "                                                                 last_hidden_state[0][0]          \n",
      "__________________________________________________________________________________________________\n",
      "attention_vector (Dense)        (None, 128)          16384       attention_output[0][0]           \n",
      "__________________________________________________________________________________________________\n",
      "dense (Dense)                   (None, 240)          30960       attention_vector[0][0]           \n",
      "__________________________________________________________________________________________________\n",
      "reshape (Reshape)               (None, 60, 4)        0           dense[0][0]                      \n",
      "==================================================================================================\n",
      "Total params: 102,128\n",
      "Trainable params: 102,128\n",
      "Non-trainable params: 0\n",
      "__________________________________________________________________________________________________\n",
      "Epoch 1/30\n",
      "287/288 [============================>.] - ETA: 0s - loss: 0.0630\n",
      "Epoch 00001: saving model to ./save_models/Attention_based_LSTM_v7_01_0.04139.h5\n",
      "288/288 [==============================] - 8s 27ms/step - loss: 0.0630 - val_loss: 0.0414\n",
      "Epoch 2/30\n",
      "287/288 [============================>.] - ETA: 0s - loss: 0.0411\n",
      "Epoch 00002: saving model to ./save_models/Attention_based_LSTM_v7_02_0.03631.h5\n",
      "288/288 [==============================] - 7s 24ms/step - loss: 0.0411 - val_loss: 0.0363\n",
      "Epoch 3/30\n",
      "288/288 [==============================] - ETA: 0s - loss: 0.0364\n",
      "Epoch 00003: saving model to ./save_models/Attention_based_LSTM_v7_03_0.03772.h5\n",
      "288/288 [==============================] - 7s 24ms/step - loss: 0.0364 - val_loss: 0.0377\n",
      "Epoch 4/30\n",
      "288/288 [==============================] - ETA: 0s - loss: 0.0342\n",
      "Epoch 00004: saving model to ./save_models/Attention_based_LSTM_v7_04_0.02887.h5\n",
      "288/288 [==============================] - 7s 24ms/step - loss: 0.0342 - val_loss: 0.0289\n",
      "Epoch 5/30\n",
      "288/288 [==============================] - ETA: 0s - loss: 0.0320\n",
      "Epoch 00005: saving model to ./save_models/Attention_based_LSTM_v7_05_0.02640.h5\n",
      "288/288 [==============================] - 7s 23ms/step - loss: 0.0320 - val_loss: 0.0264\n",
      "Epoch 6/30\n",
      "288/288 [==============================] - ETA: 0s - loss: 0.0301\n",
      "Epoch 00006: saving model to ./save_models/Attention_based_LSTM_v7_06_0.02666.h5\n",
      "288/288 [==============================] - 7s 23ms/step - loss: 0.0301 - val_loss: 0.0267\n",
      "Epoch 7/30\n",
      "287/288 [============================>.] - ETA: 0s - loss: 0.0285\n",
      "Epoch 00007: saving model to ./save_models/Attention_based_LSTM_v7_07_0.02199.h5\n",
      "288/288 [==============================] - 7s 24ms/step - loss: 0.0285 - val_loss: 0.0220\n",
      "Epoch 8/30\n",
      "288/288 [==============================] - ETA: 0s - loss: 0.0266\n",
      "Epoch 00008: saving model to ./save_models/Attention_based_LSTM_v7_08_0.02210.h5\n",
      "288/288 [==============================] - 7s 24ms/step - loss: 0.0266 - val_loss: 0.0221\n",
      "Epoch 9/30\n",
      "288/288 [==============================] - ETA: 0s - loss: 0.0254\n",
      "Epoch 00009: saving model to ./save_models/Attention_based_LSTM_v7_09_0.02279.h5\n",
      "288/288 [==============================] - 7s 24ms/step - loss: 0.0254 - val_loss: 0.0228\n",
      "Epoch 10/30\n",
      "288/288 [==============================] - ETA: 0s - loss: 0.0240\n",
      "Epoch 00010: saving model to ./save_models/Attention_based_LSTM_v7_10_0.01622.h5\n",
      "288/288 [==============================] - 7s 24ms/step - loss: 0.0240 - val_loss: 0.0162\n",
      "Epoch 11/30\n",
      "286/288 [============================>.] - ETA: 0s - loss: 0.0231\n",
      "Epoch 00011: saving model to ./save_models/Attention_based_LSTM_v7_11_0.02657.h5\n",
      "288/288 [==============================] - 7s 24ms/step - loss: 0.0231 - val_loss: 0.0266\n",
      "Epoch 12/30\n",
      "288/288 [==============================] - ETA: 0s - loss: 0.0222\n",
      "Epoch 00012: saving model to ./save_models/Attention_based_LSTM_v7_12_0.02367.h5\n",
      "288/288 [==============================] - 7s 24ms/step - loss: 0.0222 - val_loss: 0.0237\n",
      "Epoch 13/30\n",
      "287/288 [============================>.] - ETA: 0s - loss: 0.0213\n",
      "Epoch 00013: saving model to ./save_models/Attention_based_LSTM_v7_13_0.01291.h5\n",
      "288/288 [==============================] - 7s 24ms/step - loss: 0.0213 - val_loss: 0.0129\n",
      "Epoch 14/30\n",
      "288/288 [==============================] - ETA: 0s - loss: 0.0207\n",
      "Epoch 00014: saving model to ./save_models/Attention_based_LSTM_v7_14_0.02081.h5\n",
      "288/288 [==============================] - 7s 24ms/step - loss: 0.0207 - val_loss: 0.0208\n",
      "Epoch 15/30\n",
      "286/288 [============================>.] - ETA: 0s - loss: 0.0204\n",
      "Epoch 00015: saving model to ./save_models/Attention_based_LSTM_v7_15_0.01717.h5\n",
      "288/288 [==============================] - 7s 24ms/step - loss: 0.0204 - val_loss: 0.0172\n",
      "Epoch 16/30\n",
      "288/288 [==============================] - ETA: 0s - loss: 0.0198\n",
      "Epoch 00016: saving model to ./save_models/Attention_based_LSTM_v7_16_0.02210.h5\n",
      "288/288 [==============================] - 7s 23ms/step - loss: 0.0198 - val_loss: 0.0221\n",
      "Epoch 17/30\n",
      "288/288 [==============================] - ETA: 0s - loss: 0.0193\n",
      "Epoch 00017: saving model to ./save_models/Attention_based_LSTM_v7_17_0.02245.h5\n",
      "288/288 [==============================] - 7s 24ms/step - loss: 0.0193 - val_loss: 0.0224\n",
      "Epoch 18/30\n",
      "288/288 [==============================] - ETA: 0s - loss: 0.0190\n",
      "Epoch 00018: saving model to ./save_models/Attention_based_LSTM_v7_18_0.01332.h5\n",
      "288/288 [==============================] - 7s 24ms/step - loss: 0.0190 - val_loss: 0.0133\n",
      "Epoch 19/30\n",
      "287/288 [============================>.] - ETA: 0s - loss: 0.0187\n",
      "Epoch 00019: saving model to ./save_models/Attention_based_LSTM_v7_19_0.01875.h5\n",
      "288/288 [==============================] - 7s 24ms/step - loss: 0.0187 - val_loss: 0.0188\n",
      "Epoch 20/30\n",
      "287/288 [============================>.] - ETA: 0s - loss: 0.0183\n",
      "Epoch 00020: saving model to ./save_models/Attention_based_LSTM_v7_20_0.01902.h5\n",
      "288/288 [==============================] - 7s 24ms/step - loss: 0.0183 - val_loss: 0.0190\n",
      "Epoch 21/30\n"
     ]
    },
    {
     "name": "stdout",
     "output_type": "stream",
     "text": [
      "288/288 [==============================] - ETA: 0s - loss: 0.0180\n",
      "Epoch 00021: saving model to ./save_models/Attention_based_LSTM_v7_21_0.01284.h5\n",
      "288/288 [==============================] - 7s 24ms/step - loss: 0.0180 - val_loss: 0.0128\n",
      "Epoch 22/30\n",
      "286/288 [============================>.] - ETA: 0s - loss: 0.017 - ETA: 0s - loss: 0.0178\n",
      "Epoch 00022: saving model to ./save_models/Attention_based_LSTM_v7_22_0.01936.h5\n",
      "288/288 [==============================] - 7s 23ms/step - loss: 0.0178 - val_loss: 0.0194\n",
      "Epoch 23/30\n",
      "288/288 [==============================] - ETA: 0s - loss: 0.0174\n",
      "Epoch 00023: saving model to ./save_models/Attention_based_LSTM_v7_23_0.01122.h5\n",
      "288/288 [==============================] - 7s 23ms/step - loss: 0.0174 - val_loss: 0.0112\n",
      "Epoch 24/30\n",
      "286/288 [============================>.] - ETA: 0s - loss: 0.0173\n",
      "Epoch 00024: saving model to ./save_models/Attention_based_LSTM_v7_24_0.01510.h5\n",
      "288/288 [==============================] - 7s 23ms/step - loss: 0.0172 - val_loss: 0.0151\n",
      "Epoch 25/30\n",
      "286/288 [============================>.] - ETA: 0s - loss: 0.0170\n",
      "Epoch 00025: saving model to ./save_models/Attention_based_LSTM_v7_25_0.01058.h5\n",
      "288/288 [==============================] - 7s 23ms/step - loss: 0.0170 - val_loss: 0.0106\n",
      "Epoch 26/30\n",
      "288/288 [==============================] - ETA: 0s - loss: 0.0169\n",
      "Epoch 00026: saving model to ./save_models/Attention_based_LSTM_v7_26_0.01095.h5\n",
      "288/288 [==============================] - 7s 23ms/step - loss: 0.0169 - val_loss: 0.0110\n",
      "Epoch 27/30\n",
      "286/288 [============================>.] - ETA: 0s - loss: 0.0166\n",
      "Epoch 00027: saving model to ./save_models/Attention_based_LSTM_v7_27_0.01565.h5\n",
      "288/288 [==============================] - 7s 23ms/step - loss: 0.0167 - val_loss: 0.0156\n",
      "Epoch 28/30\n",
      "286/288 [============================>.] - ETA: 0s - loss: 0.0165\n",
      "Epoch 00028: saving model to ./save_models/Attention_based_LSTM_v7_28_0.01792.h5\n",
      "288/288 [==============================] - 7s 23ms/step - loss: 0.0166 - val_loss: 0.0179\n",
      "Epoch 29/30\n",
      "287/288 [============================>.] - ETA: 0s - loss: 0.0164\n",
      "Epoch 00029: saving model to ./save_models/Attention_based_LSTM_v7_29_0.01113.h5\n",
      "288/288 [==============================] - 7s 24ms/step - loss: 0.0164 - val_loss: 0.0111\n",
      "Epoch 30/30\n",
      "287/288 [============================>.] - ETA: 0s - loss: 0.0163\n",
      "Epoch 00030: saving model to ./save_models/Attention_based_LSTM_v7_30_0.01746.h5\n",
      "288/288 [==============================] - 7s 24ms/step - loss: 0.0163 - val_loss: 0.0175\n"
     ]
    }
   ],
   "source": [
    "time = new_train_x.shape[1]\n",
    "OUT_STEPS = new_train_y.shape[1]\n",
    "\n",
    "\n",
    "with tf.device('/gpu:1'):\n",
    "    input_1 = Input(shape=(time, num_features), dtype='float32')\n",
    "    lstm_1 = LSTM(64, return_sequences=True)(input_1)\n",
    "    lstm_2 = LSTM(64, return_sequences=True)(lstm_1)\n",
    "    #lstm_3 = LSTM(32, return_sequences=True)(lstm_2)\n",
    "    #lstm_4 = LSTM(32, return_sequences=True)(lstm_3)\n",
    "    att_1 = Attention(64)(lstm_2)\n",
    "    output_1 = Dense(OUT_STEPS * num_features)(att_1)\n",
    "    output_reshape = Reshape([OUT_STEPS, num_features])(output_1)\n",
    "    \n",
    "    model = Model(inputs = [input_1], outputs = [output_reshape])\n",
    "    \n",
    "    model.summary()\n",
    "    \n",
    "    #optimizer = keras.optimizers.RMSprop(lr=0.0001, rho=0.9, epsilon=None, decay=0.0)\n",
    "    model.compile(optimizer='rmsprop', loss='mae')\n",
    "\n",
    "    es = EarlyStopping(monitor='val_loss', patience=20)\n",
    "    model_path = './save_models/Attention_based_LSTM_{}'.format(version) + '_{epoch:02d}_{val_loss:.5f}.h5'\n",
    "    mc = ModelCheckpoint(filepath=model_path, monitor='val_loss', verbose=1, mode='auto')\n",
    "\n",
    "    history = model.fit(new_train_x, new_train_y, epochs=30, batch_size=128, validation_split=0.2, callbacks=[es, mc])"
   ]
  },
  {
   "cell_type": "code",
   "execution_count": 15,
   "metadata": {},
   "outputs": [],
   "source": [
    "import matplotlib.pyplot as plt"
   ]
  },
  {
   "cell_type": "code",
   "execution_count": 16,
   "metadata": {},
   "outputs": [
    {
     "data": {
      "image/png": "[encoded data removed]",
      "text/plain": [
       "<Figure size 432x288 with 1 Axes>"
      ]
     },
     "metadata": {
      "needs_background": "light"
     },
     "output_type": "display_data"
    }
   ],
   "source": [
    "# summarize history for loss\n",
    "plt.plot(history.history['loss'])\n",
    "plt.plot(history.history['val_loss'])\n",
    "plt.title('model loss')\n",
    "plt.ylabel('mse')\n",
    "plt.xlabel('epoch')\n",
    "plt.legend(['train', 'val'], loc='upper left')\n",
    "plt.show()"
   ]
  },
  {
   "cell_type": "markdown",
   "metadata": {},
   "source": [
    "# 예측하기"
   ]
  },
  {
   "cell_type": "code",
   "execution_count": 17,
   "metadata": {},
   "outputs": [
    {
     "data": {
      "text/plain": [
       "TensorShape([535, 1380, 4])"
      ]
     },
     "execution_count": 17,
     "metadata": {},
     "output_type": "execute_result"
    }
   ],
   "source": [
    "auto_x = test_x\n",
    "auto_x.shape"
   ]
  },
  {
   "cell_type": "code",
   "execution_count": 18,
   "metadata": {
    "scrolled": true
   },
   "outputs": [
    {
     "data": {
      "text/plain": [
       "<tf.Tensor: shape=(535, 1380, 4), dtype=float64, numpy=\n",
       "array([[[0.99356031, 0.99356031, 0.99047661, 0.99102145],\n",
       "        [0.99077082, 0.99304819, 0.99035674, 0.9926886 ],\n",
       "        [0.99271041, 0.99356031, 0.99131566, 0.99179506],\n",
       "        ...,\n",
       "        [1.00163448, 1.00167799, 0.99921548, 0.99954236],\n",
       "        [0.99954236, 1.00016344, 0.9989866 , 0.99976027],\n",
       "        [1.        , 1.00246263, 1.        , 1.00026155]],\n",
       "\n",
       "       [[0.89638358, 0.89899963, 0.8963626 , 0.89881128],\n",
       "        [0.89856011, 0.89856011, 0.89429069, 0.89571381],\n",
       "        [0.89571381, 0.89638358, 0.89460468, 0.8963626 ],\n",
       "        ...,\n",
       "        [0.99947679, 1.00142312, 0.99857688, 1.00008368],\n",
       "        [1.0000627 , 1.00054407, 0.99889076, 0.99981165],\n",
       "        [1.        , 1.00025105, 0.99679792, 0.99838853]],\n",
       "\n",
       "       [[0.95153993, 0.95309114, 0.95149213, 0.95282489],\n",
       "        [0.95282507, 0.95292419, 0.95209217, 0.95233381],\n",
       "        [0.95249373, 0.95266843, 0.95241386, 0.95262241],\n",
       "        ...,\n",
       "        [0.99944448, 1.00000811, 0.99928051, 0.99995846],\n",
       "        [0.99996006, 1.00007689, 0.9992457 , 0.99996281],\n",
       "        [1.        , 1.00052059, 1.        , 1.00044894]],\n",
       "\n",
       "       ...,\n",
       "\n",
       "       [[0.95451307, 0.95537722, 0.95309663, 0.95410329],\n",
       "        [0.95410329, 0.95501202, 0.95358664, 0.95405877],\n",
       "        [0.95405877, 0.95597404, 0.95340842, 0.9555108 ],\n",
       "        ...,\n",
       "        [0.99625844, 0.99772835, 0.99625844, 0.99747884],\n",
       "        [0.9974522 , 0.99999106, 0.99721169, 0.99999106],\n",
       "        [1.        , 1.00170147, 0.99956352, 1.00137198]],\n",
       "\n",
       "       [[1.01502311, 1.01555789, 1.01502311, 1.01536965],\n",
       "        [1.01555789, 1.01566708, 1.01487577, 1.01487577],\n",
       "        [1.01500404, 1.01521957, 1.0144583 , 1.0144583 ],\n",
       "        ...,\n",
       "        [0.99988538, 1.00048292, 0.99781996, 0.99970806],\n",
       "        [0.99944067, 1.00005186, 0.99774629, 0.99997544],\n",
       "        [1.        , 1.00108862, 0.99936968, 0.99936968]],\n",
       "\n",
       "       [[1.02233374, 1.02254045, 1.02212691, 1.0224371 ],\n",
       "        [1.0224371 , 1.02259219, 1.02212691, 1.02217865],\n",
       "        [1.02233374, 1.0224371 , 1.02047253, 1.02067935],\n",
       "        ...,\n",
       "        [1.00056863, 1.00108576, 0.99912113, 0.99968982],\n",
       "        [0.99968982, 1.00020683, 0.99886268, 1.        ],\n",
       "        [1.        , 1.00113738, 0.99932796, 0.99937963]]])>"
      ]
     },
     "execution_count": 18,
     "metadata": {},
     "output_type": "execute_result"
    }
   ],
   "source": [
    "auto_x"
   ]
  },
  {
   "cell_type": "code",
   "execution_count": 19,
   "metadata": {},
   "outputs": [],
   "source": [
    "submission = np.zeros((535, 120, 4))"
   ]
  },
  {
   "cell_type": "code",
   "execution_count": 20,
   "metadata": {
    "scrolled": true
   },
   "outputs": [
    {
     "data": {
      "text/plain": [
       "array([[[0., 0., 0., 0.],\n",
       "        [0., 0., 0., 0.],\n",
       "        [0., 0., 0., 0.],\n",
       "        ...,\n",
       "        [0., 0., 0., 0.],\n",
       "        [0., 0., 0., 0.],\n",
       "        [0., 0., 0., 0.]],\n",
       "\n",
       "       [[0., 0., 0., 0.],\n",
       "        [0., 0., 0., 0.],\n",
       "        [0., 0., 0., 0.],\n",
       "        ...,\n",
       "        [0., 0., 0., 0.],\n",
       "        [0., 0., 0., 0.],\n",
       "        [0., 0., 0., 0.]],\n",
       "\n",
       "       [[0., 0., 0., 0.],\n",
       "        [0., 0., 0., 0.],\n",
       "        [0., 0., 0., 0.],\n",
       "        ...,\n",
       "        [0., 0., 0., 0.],\n",
       "        [0., 0., 0., 0.],\n",
       "        [0., 0., 0., 0.]],\n",
       "\n",
       "       ...,\n",
       "\n",
       "       [[0., 0., 0., 0.],\n",
       "        [0., 0., 0., 0.],\n",
       "        [0., 0., 0., 0.],\n",
       "        ...,\n",
       "        [0., 0., 0., 0.],\n",
       "        [0., 0., 0., 0.],\n",
       "        [0., 0., 0., 0.]],\n",
       "\n",
       "       [[0., 0., 0., 0.],\n",
       "        [0., 0., 0., 0.],\n",
       "        [0., 0., 0., 0.],\n",
       "        ...,\n",
       "        [0., 0., 0., 0.],\n",
       "        [0., 0., 0., 0.],\n",
       "        [0., 0., 0., 0.]],\n",
       "\n",
       "       [[0., 0., 0., 0.],\n",
       "        [0., 0., 0., 0.],\n",
       "        [0., 0., 0., 0.],\n",
       "        ...,\n",
       "        [0., 0., 0., 0.],\n",
       "        [0., 0., 0., 0.],\n",
       "        [0., 0., 0., 0.]]])"
      ]
     },
     "execution_count": 20,
     "metadata": {},
     "output_type": "execute_result"
    }
   ],
   "source": [
    "submission"
   ]
  },
  {
   "cell_type": "code",
   "execution_count": 21,
   "metadata": {},
   "outputs": [],
   "source": [
    "trained_model = load_model('./save_models/Attention_based_LSTM_v7_25_0.01058.h5')"
   ]
  },
  {
   "cell_type": "code",
   "execution_count": 22,
   "metadata": {
    "scrolled": true
   },
   "outputs": [
    {
     "name": "stdout",
     "output_type": "stream",
     "text": [
      "(535, 1440, 4)\n",
      "(535, 1500, 4)\n"
     ]
    }
   ],
   "source": [
    "end_ = 120\n",
    "output_window = 60\n",
    "\n",
    "for i in range(end_//output_window):\n",
    "    start_ = i*output_window\n",
    "    next_ = trained_model.predict(auto_x[:, -170:, :], batch_size=128)    \n",
    "    auto_x = tf.concat([auto_x, next_], axis=1)\n",
    "    print(auto_x.shape)\n",
    "    submission[:, start_ : start_ + output_window, :] = next_"
   ]
  },
  {
   "cell_type": "code",
   "execution_count": 23,
   "metadata": {
    "scrolled": true
   },
   "outputs": [
    {
     "data": {
      "text/plain": [
       "array([[[1.00143921, 1.00779951, 1.00133181, 0.99634945],\n",
       "        [1.00406849, 1.00207031, 1.00422859, 1.00414884],\n",
       "        [1.00475359, 0.9988445 , 0.99620813, 0.99575216],\n",
       "        ...,\n",
       "        [1.00307858, 0.99821359, 0.99954838, 1.00161445],\n",
       "        [0.99812305, 1.00852227, 0.99890041, 1.00103855],\n",
       "        [1.00661099, 1.00223029, 0.99890375, 1.00745738]],\n",
       "\n",
       "       [[1.00053859, 1.00635254, 0.99907041, 0.99499631],\n",
       "        [1.00227928, 1.0018115 , 1.00185168, 1.00382566],\n",
       "        [1.00345516, 0.99745357, 0.99337208, 0.99532348],\n",
       "        ...,\n",
       "        [0.99971962, 0.99769574, 0.99727505, 0.99867427],\n",
       "        [0.99733508, 1.00586617, 0.99744624, 0.99920905],\n",
       "        [1.00390828, 1.00025105, 0.99660063, 1.00642991]],\n",
       "\n",
       "       [[1.00049007, 1.00645018, 1.00033498, 0.99522889],\n",
       "        [1.00257134, 1.00109756, 1.00297916, 1.00312042],\n",
       "        [1.0038017 , 0.99770212, 0.9946481 , 0.99514157],\n",
       "        ...,\n",
       "        [1.00082767, 0.99850351, 0.99907309, 1.00067258],\n",
       "        [0.99774587, 1.0074091 , 0.99827874, 1.0004673 ],\n",
       "        [1.00493002, 1.00153673, 0.99735731, 1.00685835]],\n",
       "\n",
       "       ...,\n",
       "\n",
       "       [[0.99981487, 1.00525856, 0.9987551 , 0.99420381],\n",
       "        [1.00136805, 1.00103998, 1.00098956, 1.00298071],\n",
       "        [1.00245571, 0.9966588 , 0.99268311, 0.99472606],\n",
       "        ...,\n",
       "        [0.99960804, 0.99832481, 0.99813861, 0.99965775],\n",
       "        [0.99713498, 1.00641775, 0.99762565, 0.99968821],\n",
       "        [1.00390172, 1.00090611, 0.99632227, 1.00604987]],\n",
       "\n",
       "       [[1.00215483, 1.00859213, 1.00139689, 0.99713767],\n",
       "        [1.00474584, 1.00294852, 1.0044142 , 1.00545883],\n",
       "        [1.00534093, 0.99940336, 0.9967252 , 0.99638826],\n",
       "        ...,\n",
       "        [1.00090325, 0.9977119 , 0.99764687, 0.9993006 ],\n",
       "        [0.99721634, 1.0065254 , 0.99793571, 0.99946189],\n",
       "        [1.00451779, 1.00036299, 0.99716532, 1.00677419]],\n",
       "\n",
       "       [[1.00257039, 1.00915504, 1.00147092, 0.99746877],\n",
       "        [1.00509548, 1.00360513, 1.00461602, 1.00608492],\n",
       "        [1.0055027 , 0.99938917, 0.99646437, 0.9969275 ],\n",
       "        ...,\n",
       "        [0.99894124, 0.99776071, 0.99671465, 0.99793065],\n",
       "        [0.99690765, 1.00534749, 0.99710178, 0.99889493],\n",
       "        [1.00324774, 0.99978757, 0.99601263, 1.00597167]]])"
      ]
     },
     "execution_count": 23,
     "metadata": {},
     "output_type": "execute_result"
    }
   ],
   "source": [
    "submission"
   ]
  },
  {
   "cell_type": "code",
   "execution_count": 24,
   "metadata": {},
   "outputs": [
    {
     "data": {
      "text/plain": [
       "(535, 120, 4)"
      ]
     },
     "execution_count": 24,
     "metadata": {},
     "output_type": "execute_result"
    }
   ],
   "source": [
    "submission.shape"
   ]
  },
  {
   "cell_type": "code",
   "execution_count": 25,
   "metadata": {},
   "outputs": [
    {
     "data": {
      "image/png": "[encoded data removed]",
      "text/plain": [
       "<Figure size 1440x360 with 1 Axes>"
      ]
     },
     "metadata": {
      "needs_background": "light"
     },
     "output_type": "display_data"
    }
   ],
   "source": [
    "plt.figure(figsize=(20,5))\n",
    "\n",
    "plt.plot(test_x[row,:,0])\n",
    "plt.plot(np.arange(test_x.shape[1], test_x.shape[1]+submission.shape[1]), submission[row, :, 0], label='pred open price')\n",
    "plt.legend()\n",
    "plt.show()"
   ]
  },
  {
   "cell_type": "code",
   "execution_count": 26,
   "metadata": {},
   "outputs": [],
   "source": [
    "sample_submission = pd.read_csv('./submission/sample_submission.csv')"
   ]
  },
  {
   "cell_type": "code",
   "execution_count": 27,
   "metadata": {},
   "outputs": [],
   "source": [
    "sample_submission['buy_quantity']=1\n",
    "\n",
    "for i in range(submission.shape[0]):\n",
    "    a = submission[i,:,0].argmax()\n",
    "    b = submission[i,a,0]\n",
    "    c = np.array(auto_x[i,1380,0])\n",
    "    \n",
    "    if b > c:\n",
    "        sample_submission['sell_time'][i] = a\n",
    "    else:\n",
    "        sample_submission['sell_time'][i] = 0"
   ]
  },
  {
   "cell_type": "code",
   "execution_count": 28,
   "metadata": {},
   "outputs": [
    {
     "data": {
      "text/plain": [
       "114    353\n",
       "54     182\n",
       "Name: sell_time, dtype: int64"
      ]
     },
     "execution_count": 28,
     "metadata": {},
     "output_type": "execute_result"
    }
   ],
   "source": [
    "sample_submission['sell_time'].value_counts()"
   ]
  },
  {
   "cell_type": "code",
   "execution_count": null,
   "metadata": {},
   "outputs": [],
   "source": [
    "sample_submission.to_csv(\"./submission/Attention_based_LSTM_{}.csv\".format(version), index = False)"
   ]
  },
  {
   "cell_type": "code",
   "execution_count": null,
   "metadata": {},
   "outputs": [],
   "source": []
  }
 ],
 "metadata": {
  "kernelspec": {
   "display_name": "Python 3",
   "language": "python",
   "name": "python3"
  },
  "language_info": {
   "codemirror_mode": {
    "name": "ipython",
    "version": 3
   },
   "file_extension": ".py",
   "mimetype": "text/x-python",
   "name": "python",
   "nbconvert_exporter": "python",
   "pygments_lexer": "ipython3",
   "version": "3.7.9"
  }
 },
 "nbformat": 4,
 "nbformat_minor": 4
}
